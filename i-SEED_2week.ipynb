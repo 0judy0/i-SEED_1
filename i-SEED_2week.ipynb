{
 "cells": [
  {
   "cell_type": "markdown",
   "id": "326de0e7",
   "metadata": {},
   "source": [
    "## [1]다음 각 보기를 실행하여 다른 값이 출력하는 것을 하나 고르세요."
   ]
  },
  {
   "cell_type": "code",
   "execution_count": 1,
   "id": "b3c6e873",
   "metadata": {},
   "outputs": [
    {
     "name": "stdout",
     "output_type": "stream",
     "text": [
      "100\n",
      "100\n",
      "100\n",
      "50+50\n"
     ]
    }
   ],
   "source": [
    "print(\"100\") #1\n",
    "print(100) #2\n",
    "print(50+50) #3\n",
    "print(\"50+50\") #4 - 정답 (\"\"안은 문자열이다.)"
   ]
  },
  {
   "cell_type": "markdown",
   "id": "52ece68d",
   "metadata": {},
   "source": [
    "## [2]다음 코드의 실행 결과를 고르세요"
   ]
  },
  {
   "cell_type": "code",
   "execution_count": 2,
   "id": "1ccc3618",
   "metadata": {},
   "outputs": [
    {
     "name": "stdout",
     "output_type": "stream",
     "text": [
      "5 / 10 = 0\n"
     ]
    }
   ],
   "source": [
    "print(\"%d / %d = %d\" % (5, 10, 5/10)) # 정답 : 3"
   ]
  },
  {
   "cell_type": "markdown",
   "id": "fc949f22",
   "metadata": {},
   "source": [
    "## [3]다음 코드의 실행 결과를 예상해 보세요"
   ]
  },
  {
   "cell_type": "code",
   "execution_count": 3,
   "id": "0a37ed3d",
   "metadata": {},
   "outputs": [
    {
     "name": "stdout",
     "output_type": "stream",
     "text": [
      "0876\n",
      "CookBook\n",
      "123.5\n"
     ]
    }
   ],
   "source": [
    "print(\"%04d\" %876) #0876 # 4자리의 숫자로 표시, 빈자리는 0으로 채움\n",
    "print(\"%5s\" % \"CookBook\") #CookBook # 5자리의 문자열로 출력하라고 했지만 5자리를 넘어서 전부 출력\n",
    "print(\"%1.1f\" %123.45) # 123.5 # 소수점 첫째 자리까지 출력, 반올림 출력"
   ]
  },
  {
   "cell_type": "markdown",
   "id": "a61ac994",
   "metadata": {},
   "source": [
    "## [4]다음 코드의 실행 결과를 고르세요"
   ]
  },
  {
   "cell_type": "code",
   "execution_count": 4,
   "id": "cfc8b247",
   "metadata": {},
   "outputs": [
    {
     "name": "stdout",
     "output_type": "stream",
     "text": [
      "333111222\n"
     ]
    }
   ],
   "source": [
    "print(\"{2:d}{0:d}{1:d}\".format(111, 222, 333)) # 333111222"
   ]
  },
  {
   "cell_type": "markdown",
   "id": "115d2e40",
   "metadata": {},
   "source": [
    "## [11]다음 각 진수를 모두 10진수로 변환하세요"
   ]
  },
  {
   "cell_type": "code",
   "execution_count": 5,
   "id": "ed40141d",
   "metadata": {},
   "outputs": [
    {
     "name": "stdout",
     "output_type": "stream",
     "text": [
      "11\n",
      "26\n"
     ]
    }
   ],
   "source": [
    "print(int('1011', 2))\n",
    "print(int('1A', 16))"
   ]
  },
  {
   "cell_type": "markdown",
   "id": "50f2e9b0",
   "metadata": {},
   "source": [
    "## [13]오류가 발생하는 것을 모두 고르고, 그 이유를 간단히 설명하세요"
   ]
  },
  {
   "cell_type": "code",
   "execution_count": 6,
   "id": "e987d841",
   "metadata": {},
   "outputs": [],
   "source": [
    "# print(int('1002', 2)) # 오류 발생 : 2진수는 0또는 1의 값으로 이루어져야 하는데 2를 포함\n",
    "# print(int('1008', 8)) # 오류 발생 : 8진수는 0~7 값으로 이루어져야 하는데 8을 포함\n",
    "# print(int('AAFG', 16)) # 오류 발생 : 16진수는 0~9, A~F 값으로 이루어져야 하는데 G를 포함"
   ]
  },
  {
   "cell_type": "markdown",
   "id": "950d8c2e",
   "metadata": {},
   "source": [
    "## [15] 다음과 같은 결과가 나오도록 코드의 빈 곳을 채우세요"
   ]
  },
  {
   "cell_type": "code",
   "execution_count": 7,
   "id": "0b4a0677",
   "metadata": {},
   "outputs": [
    {
     "name": "stdout",
     "output_type": "stream",
     "text": [
      "10진수 ==> 12345678\n",
      "16진수 ==> 0xbc614e\n",
      "8진수 ==> 0o57060516\n",
      "2진수 ==> 0b101111000110000101001110\n"
     ]
    }
   ],
   "source": [
    "num = 12345678\n",
    "hex_num = hex(num)\n",
    "oct_num = oct(num)\n",
    "bin_num = bin(num)\n",
    "print(\"10진수 ==>\", num)\n",
    "print(\"16진수 ==>\", hex_num)\n",
    "print(\"8진수 ==>\", oct_num)\n",
    "print(\"2진수 ==>\", bin_num)"
   ]
  },
  {
   "cell_type": "code",
   "execution_count": null,
   "id": "0475c7be",
   "metadata": {},
   "outputs": [],
   "source": []
  }
 ],
 "metadata": {
  "kernelspec": {
   "display_name": "Python 3 (ipykernel)",
   "language": "python",
   "name": "python3"
  },
  "language_info": {
   "codemirror_mode": {
    "name": "ipython",
    "version": 3
   },
   "file_extension": ".py",
   "mimetype": "text/x-python",
   "name": "python",
   "nbconvert_exporter": "python",
   "pygments_lexer": "ipython3",
   "version": "3.9.7"
  }
 },
 "nbformat": 4,
 "nbformat_minor": 5
}
