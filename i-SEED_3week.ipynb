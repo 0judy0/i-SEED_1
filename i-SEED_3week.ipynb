{
 "cells": [
  {
   "cell_type": "markdown",
   "id": "f3e34914",
   "metadata": {},
   "source": [
    "# 4 다음은 장학생, 합격, 불합격으로 구분하는 중첩 if 문입니다. 이를 if ~ elif 문으로 변경하세요"
   ]
  },
  {
   "cell_type": "code",
   "execution_count": 13,
   "id": "cb09c1fd",
   "metadata": {},
   "outputs": [
    {
     "name": "stdout",
     "output_type": "stream",
     "text": [
      "점수를 입력하세요 : 58\n",
      "불합격입니다. ^^\n"
     ]
    }
   ],
   "source": [
    "score = int(input(\"점수를 입력하세요 : \"))\n",
    "\n",
    "if score < 60 :\n",
    "    print(\"불합격\", end = \"\")\n",
    "\n",
    "elif score >= 60 and score < 90:\n",
    "    print(\"합격\", end = \"\")\n",
    "\n",
    "elif score >= 90:\n",
    "    print(\"장학생\", end=\"\")\n",
    "    \n",
    "print(\"입니다. ^^\")"
   ]
  },
  {
   "cell_type": "markdown",
   "id": "b64e78c4",
   "metadata": {},
   "source": [
    "# 5 다음 코드의 2~5행을 삼항 연산자로 변경한 것으로 옳은 것을 고르세요"
   ]
  },
  {
   "cell_type": "code",
   "execution_count": 17,
   "id": "b686332c",
   "metadata": {},
   "outputs": [
    {
     "name": "stdout",
     "output_type": "stream",
     "text": [
      "홀수\n"
     ]
    }
   ],
   "source": [
    "num = 5\n",
    "res = \"짝수\"if num % 2 == 0  else \"홀수\"\n",
    "print(res)"
   ]
  },
  {
   "cell_type": "markdown",
   "id": "7d6593f3",
   "metadata": {},
   "source": [
    "# 6 다음 각 코드를 실행한 후에, nn에 저장된 값을 쓰세요. 단, nn은 항상 보기의 5개 데이터가 저장되어 있다고 가정합니다."
   ]
  },
  {
   "cell_type": "code",
   "execution_count": 19,
   "id": "aff6ad78",
   "metadata": {},
   "outputs": [
    {
     "name": "stdout",
     "output_type": "stream",
     "text": [
      "[100, 777, 300, 400, 500]\n",
      "[100, [444, 555], 300, 400, 500]\n",
      "[100, 444, 555, 500]\n",
      "[100, 200]\n"
     ]
    }
   ],
   "source": [
    "nn = [100, 200, 300, 400, 500]\n",
    "nn[1] = 777 # 1 [100, 777, 300, 400, 500]\n",
    "print(nn)\n",
    "\n",
    "nn = [100, 200, 300, 400, 500]\n",
    "nn[1] = [444, 555] # 2 [100, [444, 555], 300, 400, 500]\n",
    "print(nn)\n",
    "\n",
    "nn = [100, 200, 300 ,400, 500]\n",
    "nn[1:4] = [444, 555] # 3 [100, 444, 555, 500]\n",
    "print(nn)\n",
    "\n",
    "nn = [100, 200, 300, 400, 500]\n",
    "nn[2:] = [] # 4 [100, 200]\n",
    "print(nn)"
   ]
  },
  {
   "cell_type": "markdown",
   "id": "c15371b0",
   "metadata": {},
   "source": [
    "# 9 for 문을 사용해서 3333부터 9999까지의 숫자 중에서 1234의 배수의 합계를 구하되, 합계가 100000(십만)이 넘기 직전까지만 합계를 구하는 코드를 작성하세요. 단, 코드에는 continue와 break를 모두 사용해서 작성하세요"
   ]
  },
  {
   "cell_type": "code",
   "execution_count": 23,
   "id": "9db63d03",
   "metadata": {},
   "outputs": [
    {
     "name": "stdout",
     "output_type": "stream",
     "text": [
      "40722\n"
     ]
    }
   ],
   "source": [
    "num = 0\n",
    "for i in range(3333, 9999):\n",
    "    if i % 1234 == 0:\n",
    "        num += i\n",
    "        continue\n",
    "    if num >= 100000:\n",
    "        num -= i\n",
    "        break\n",
    "print(num)"
   ]
  },
  {
   "cell_type": "markdown",
   "id": "e2e3731c",
   "metadata": {},
   "source": [
    "# 8 다음은 for 문을 사용해서 1234부터 4567까지 444의 배수의 합계를 구하는 코드입니다. while 문으로 변경해서 코드를 다시 작성하세요"
   ]
  },
  {
   "cell_type": "code",
   "execution_count": 25,
   "id": "85a11b23",
   "metadata": {},
   "outputs": [
    {
     "name": "stdout",
     "output_type": "stream",
     "text": [
      "23088\n"
     ]
    }
   ],
   "source": [
    "num = 1234\n",
    "hap = 0\n",
    "while num <= 4567:\n",
    "    if num % 444 == 0:\n",
    "        hap += num\n",
    "    num += 1\n",
    "print(hap)"
   ]
  },
  {
   "cell_type": "markdown",
   "id": "d8ac9363",
   "metadata": {},
   "source": [
    "# 14 다음 코드를 실행한 후 myData에 저장된 값이 무엇인지 쓰세요."
   ]
  },
  {
   "cell_type": "code",
   "execution_count": 28,
   "id": "e0e95dae",
   "metadata": {},
   "outputs": [
    {
     "data": {
      "text/plain": [
       "[[2, 4], [3, 6]]"
      ]
     },
     "execution_count": 28,
     "metadata": {},
     "output_type": "execute_result"
    }
   ],
   "source": [
    "myData = [[n*m for n in range(1, 3)] for m in range(2, 4)] # [[2, 4], [3, 6]]\n",
    "myData"
   ]
  },
  {
   "cell_type": "markdown",
   "id": "bae5ddb3",
   "metadata": {},
   "source": [
    "# 5 다음 각 코드가 출력하는 것을 쓰세요."
   ]
  },
  {
   "cell_type": "code",
   "execution_count": 30,
   "id": "27d0874b",
   "metadata": {},
   "outputs": [
    {
     "name": "stdout",
     "output_type": "stream",
     "text": [
      "500\n",
      "500\n",
      "400\n",
      "[200, 300, 400]\n",
      "[100]\n",
      "[300, 400]\n",
      "[100, 300, 500]\n",
      "[500, 400, 300, 200, 100]\n",
      "[500, 300, 100]\n"
     ]
    }
   ],
   "source": [
    "nn = [100, 200, 300, 400, 500]\n",
    "\n",
    "print(nn[4]) # 1 500\n",
    "print(nn[-1]) # 2 500\n",
    "print(nn[-2]) # 3 400\n",
    "print(nn[1:4]) # 4 [200, 300, 400]\n",
    "print(nn[0:1]) # 5 [100]\n",
    "print(nn[2:-1]) # 6 [300, 400]\n",
    "print(nn[0::2]) # 7 [100, 300, 500] \n",
    "print(nn[::-1]) # 8 [500, 400, 300, 200, 100]\n",
    "print(nn[::-2]) # 9 [500, 300, 100]"
   ]
  },
  {
   "cell_type": "code",
   "execution_count": null,
   "id": "46aeb835",
   "metadata": {},
   "outputs": [],
   "source": []
  }
 ],
 "metadata": {
  "kernelspec": {
   "display_name": "Python 3 (ipykernel)",
   "language": "python",
   "name": "python3"
  },
  "language_info": {
   "codemirror_mode": {
    "name": "ipython",
    "version": 3
   },
   "file_extension": ".py",
   "mimetype": "text/x-python",
   "name": "python",
   "nbconvert_exporter": "python",
   "pygments_lexer": "ipython3",
   "version": "3.11.4"
  }
 },
 "nbformat": 4,
 "nbformat_minor": 5
}
