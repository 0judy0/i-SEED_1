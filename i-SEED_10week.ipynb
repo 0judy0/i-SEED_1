{
 "cells": [
  {
   "cell_type": "code",
   "execution_count": 1,
   "id": "9a9fa55c",
   "metadata": {},
   "outputs": [],
   "source": [
    "pip install gtts playsound"
   ]
  },
  {
   "cell_type": "code",
   "execution_count": 2,
   "id": "2cc2a7f8",
   "metadata": {},
   "outputs": [],
   "source": [
    "from gtts import gTTS\n",
    "import playsound\n",
    "\n",
    "tts=gTTS(\"Hello my name is Koo yujung\",lang=\"ko\")\n",
    "\n",
    "tts.save(\"C:/Users/whwhd/Desktop/i-SEEDprogramming/i-seed.mp3\")\n",
    "playsound.playsound(\"C:/Users/whwhd/Desktop/i-SEEDprogramming/i-seed.mp3\",True)"
   ]
  },
  {
   "cell_type": "code",
   "execution_count": null,
   "id": "502a2534",
   "metadata": {},
   "outputs": [],
   "source": []
  }
 ],
 "metadata": {
  "kernelspec": {
   "display_name": "Python 3 (ipykernel)",
   "language": "python",
   "name": "python3"
  },
  "language_info": {
   "codemirror_mode": {
    "name": "ipython",
    "version": 3
   },
   "file_extension": ".py",
   "mimetype": "text/x-python",
   "name": "python",
   "nbconvert_exporter": "python",
   "pygments_lexer": "ipython3",
   "version": "3.9.7"
  }
 },
 "nbformat": 4,
 "nbformat_minor": 5
}
