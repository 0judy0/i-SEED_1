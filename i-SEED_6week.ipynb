{
 "cells": [
  {
   "cell_type": "markdown",
   "id": "17c215f3",
   "metadata": {},
   "source": [
    "# 1 다음 보기를 입력과 관련된 함수와 출력과 관련된 함수로 분류하세요."
   ]
  },
  {
   "cell_type": "code",
   "execution_count": 1,
   "id": "2639ded8",
   "metadata": {},
   "outputs": [],
   "source": [
    "# 입력 : input(), read(), readline(), readlines()\n",
    "# 출력 : print(), write(), writeline()"
   ]
  },
  {
   "cell_type": "markdown",
   "id": "f80c4180",
   "metadata": {},
   "source": [
    "# 2 다음은 파일의 처리단계입니다. 순서대로 나열한 것이 맞는 것을 고르세요."
   ]
  },
  {
   "cell_type": "code",
   "execution_count": 4,
   "id": "e4bfe0cd",
   "metadata": {},
   "outputs": [],
   "source": [
    "# A 파일 열기 -> C 파일 읽기 -> B 파일 쓰기 -> D 파일 닫기"
   ]
  },
  {
   "cell_type": "markdown",
   "id": "719670e5",
   "metadata": {},
   "source": [
    "# 3 파일의 열기 모드에 대한 설명입니다. 거리가 먼것을 모두 고르세요."
   ]
  },
  {
   "cell_type": "code",
   "execution_count": 5,
   "id": "7e77f2c6",
   "metadata": {},
   "outputs": [],
   "source": [
    "# 답 : 3, 6\n",
    "\n",
    "# 1. 생략하면 쓰기 모드가 기본으로 설정된다.\n",
    "# 2. r+는 일기/쓰기 겸용 모드다.\n",
    "# 3. a는 쓰기 모드이다. 기존 파일 있으면 삭제하고 새로 만든다. -> 기존에 있는 파일의 끝에 내용을 추가\n",
    "# 4. t는 텍스트 모드다.\n",
    "# 5. b는 이진 파일 모드다.\n",
    "# 6. tb는 텍스트 파일 겸 이진 파일 모드 공용이다. -> 파이썬에서 지원하지 않는 열기 모드"
   ]
  },
  {
   "cell_type": "markdown",
   "id": "b7ee520d",
   "metadata": {},
   "source": [
    "# 4 다음은 data1.txt 파일에서 1개 행만 읽어서 출력하는 코드입니다. 빈칸을 채우세요."
   ]
  },
  {
   "cell_type": "code",
   "execution_count": 7,
   "id": "2697906a",
   "metadata": {},
   "outputs": [],
   "source": [
    "inFp = open(\"C:/Temp/data1.txt\", \"r\")\n",
    "\n",
    "inStr = inFp.readline()\n",
    "print(inStr, end=\"\")\n",
    "\n",
    "inFp.close()"
   ]
  },
  {
   "cell_type": "markdown",
   "id": "85775242",
   "metadata": {},
   "source": [
    "# 6 다음은 파일을 복사하는 코드입니다. 빈칸을 채우세요."
   ]
  },
  {
   "cell_type": "code",
   "execution_count": 8,
   "id": "f35f2de4",
   "metadata": {},
   "outputs": [],
   "source": [
    "# inFp = open(\"C:/Windows/win.ini\", \"r\")\n",
    "# outFp = open(\"C:/Temp/data3.txt\", \"w\")\n",
    "\n",
    "# inList = inFp.readlines() # inFp 파일의 내용 전체를 저장\n",
    "# for inStr in inList: # 리스트의 각 줄에 대해 반복\n",
    "#     outFp.write(inStr) # 각 줄을 outFp 파일에 저장\n",
    "    \n",
    "# inFp.close()\n",
    "# outFp.close()"
   ]
  },
  {
   "cell_type": "code",
   "execution_count": null,
   "id": "029bb43a",
   "metadata": {},
   "outputs": [],
   "source": []
  }
 ],
 "metadata": {
  "kernelspec": {
   "display_name": "Python 3 (ipykernel)",
   "language": "python",
   "name": "python3"
  },
  "language_info": {
   "codemirror_mode": {
    "name": "ipython",
    "version": 3
   },
   "file_extension": ".py",
   "mimetype": "text/x-python",
   "name": "python",
   "nbconvert_exporter": "python",
   "pygments_lexer": "ipython3",
   "version": "3.11.4"
  }
 },
 "nbformat": 4,
 "nbformat_minor": 5
}
