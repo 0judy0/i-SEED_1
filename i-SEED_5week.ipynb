{
 "cells": [
  {
   "cell_type": "markdown",
   "id": "20aaf0d0",
   "metadata": {},
   "source": [
    "# 3 다음은 라디오 버튼 중 어떤 것을 클릭했는지 알려주는 코드입니다. 빈 부분에 들어갈 내용을 채우세요."
   ]
  },
  {
   "cell_type": "code",
   "execution_count": 2,
   "id": "33f8b4a0",
   "metadata": {},
   "outputs": [],
   "source": [
    "from tkinter import * # GUI(그래픽 사용자 인터페이스), 간단한 위젯 만드는 모듈\n",
    "window = Tk()\n",
    "\n",
    "def rdo_change():\n",
    "    if var.get() == 1:\n",
    "        label1.configure(text=\"벤츠\")\n",
    "    else:\n",
    "        label1.configure(text=\"포르쉐\")\n",
    "        \n",
    "var = IntVar() # 각각의 라디오 버튼에 정수를 지정하고, 사용자가 특정 버튼을 선택하면 그 버튼에 지정된 정수를 var에 저장\n",
    "\n",
    "rdo1 = Radiobutton(window, text=\"벤츠\", variable=var, value=1, command=rdo_change) # 버튼 누름 : var에 1 저장, text \"벤츠\" 표출\n",
    "rdo2 = Radiobutton(window, text=\"포르쉐\", variable=var, value=2, command=rdo_change) # 버튼 누름 : var에 2 저장, text \"포르쉐\" 표출\n",
    "\n",
    "label1 = Label(window, text=\"선택한 차량\", fg='red') # Label: 특정 라벨을 생성하는 함수, window 변수에 라벨을 지정\n",
    "\n",
    "rdo1.pack() # rdo1을 윈도우에 배치 (해당 위젯이 윈도우에 뜸)\n",
    "rdo2.pack() # rdo2을 윈도우에 배치 (위와 동일)\n",
    "label1.pack() # 라벨 위젯도 윈도우에 배치\n",
    "window.mainloop() # Tk() 루프를 실행(창을 닫을 때까지 계속 실행)"
   ]
  },
  {
   "cell_type": "markdown",
   "id": "669505ad",
   "metadata": {},
   "source": [
    "# 4 코드를 실행하면 다음 각 항에 해당하는 결과가 나오기 위해서 빈 곳에 무엇을 채워야 할지 쓰세요. (빈 칸 3곳이 모두 동일한 내용임)"
   ]
  },
  {
   "cell_type": "code",
   "execution_count": 3,
   "id": "f8bdf33b",
   "metadata": {},
   "outputs": [],
   "source": [
    "#(1)\n",
    "from tkinter import *\n",
    "window = Tk()\n",
    "\n",
    "button1 = Button(window, text='버튼1') # Button이라는 위젯을 윈도우에 표출\n",
    "button2 = Button(window, text='버튼2') \n",
    "button3 = Button(window, text='버튼3') \n",
    "\n",
    "button1.pack(side=LEFT) # button1 첫번째 호출 : 왼쪽에 위치\n",
    "button2.pack(side=LEFT) # button2 두번째 호출 : 왼쪽(button1 오른쪽)에 위치\n",
    "button3.pack(side=LEFT) # button3 세번째 호출 : 왼쪽(button2 오른쪽)에 위치\n",
    "\n",
    "window.mainloop()"
   ]
  },
  {
   "cell_type": "code",
   "execution_count": 4,
   "id": "602c930c",
   "metadata": {},
   "outputs": [],
   "source": [
    "#(2)\n",
    "from tkinter import *\n",
    "window = Tk()\n",
    "\n",
    "button1 = Button(window, text='버튼1') # Button이라는 위젯을 윈도우에 표출\n",
    "button2 = Button(window, text='버튼2') \n",
    "button3 = Button(window, text='버튼3') \n",
    "\n",
    "button1.pack(side=RIGHT) # button1 첫번째 호출 : 오른쪽에 위치\n",
    "button2.pack(side=RIGHT) # button2 두번째 호출 : 오른쪽(button1 왼쪽)에 위치\n",
    "button3.pack(side=RIGHT) # button3 세번째 호출 : 오른쪽(button2 왼쪽)에 위치\n",
    "\n",
    "window.mainloop()"
   ]
  },
  {
   "cell_type": "code",
   "execution_count": 5,
   "id": "964bfdf0",
   "metadata": {},
   "outputs": [],
   "source": [
    "#(3)\n",
    "from tkinter import *\n",
    "window = Tk()\n",
    "\n",
    "button1 = Button(window, text='버튼1') # Button이라는 위젯을 윈도우에 표출\n",
    "button2 = Button(window, text='버튼2') \n",
    "button3 = Button(window, text='버튼3') \n",
    "\n",
    "button1.pack(side=TOP) # button1 첫번째 호출 : 위쪽에 위치\n",
    "button2.pack(side=TOP) # button2 두번째 호출 : 위쪽(button1 아래쪽)에 위치\n",
    "button3.pack(side=TOP) # button3 세번째 호출 : 위쪽(button2 아래쪽)에 위치\n",
    "\n",
    "window.mainloop()"
   ]
  },
  {
   "cell_type": "code",
   "execution_count": 6,
   "id": "efcb4ac2",
   "metadata": {},
   "outputs": [],
   "source": [
    "#(4)\n",
    "from tkinter import *\n",
    "window = Tk()\n",
    "\n",
    "button1 = Button(window, text='버튼1') # Button이라는 위젯을 윈도우에 표출\n",
    "button2 = Button(window, text='버튼2') \n",
    "button3 = Button(window, text='버튼3') \n",
    "\n",
    "button1.pack(side=BOTTOM) # button1 첫번째 호출 : 아래쪽에 위치\n",
    "button2.pack(side=BOTTOM) # button2 두번째 호출 : 아래쪽(button1 위쪽)에 위치\n",
    "button3.pack(side=BOTTOM) # button3 세번째 호출 : 아래쪽(button2 위쪽)에 위치\n",
    "\n",
    "window.mainloop()"
   ]
  },
  {
   "cell_type": "markdown",
   "id": "4f9aa1fc",
   "metadata": {},
   "source": [
    "# 5 다음은 <이전>, <다음> 버튼을 클릭하면 배열(9개 문자열)의 내용으로 글자가 바뀌는 코드입니다. 빈 부분을 채우세요. 단, 마지막 글자에서 <다음>을 클릭하면 다시 첫 번째 글자가, 첫 번째 글자에서 <이전>을 클릭하면 마지막 글자가 나오도록 하세요."
   ]
  },
  {
   "cell_type": "code",
   "execution_count": 7,
   "id": "d24a3881",
   "metadata": {},
   "outputs": [],
   "source": [
    "from tkinter import *\n",
    "from time import *\n",
    "\n",
    "# 파일 이름 설정\n",
    "fnameList = [\"jeju1.gif\", \"jeju2.gif\", \"jeju3.gif\", \"jeju4.gif\", \"jeju5.gif\", \"jeju6.gif\", \"jeju7.gif\", \"jeju8.gif\", \"jeju9.gif\"]\n",
    "num = 0\n",
    "\n",
    "def clickNext():\n",
    "    global num\n",
    "    num += 1\n",
    "    if num > 8:\n",
    "        num = 0\n",
    "    pLabel.configure(text=fnameList[num]) # num에 따라 pLabel의 텍스트를 재설정, 8 초과 : 0 다시 반복\n",
    "        \n",
    "def clickPrev():\n",
    "    global num\n",
    "    num -= 1\n",
    "    if num < 0: \n",
    "        num = 8\n",
    "    pLabel.configure(text=fnameList[num]) # 0 미만 : 8 다시 반복\n",
    "    \n",
    "window = Tk()\n",
    "window.geometry(\"700x100\")\n",
    "btnPrev = Button(window, text=\"<<이전\", command=clickPrev)\n",
    "btnNext = Button(window, text=\"다음>>\", command=clickNext)\n",
    "pLabel = Label(window, text=fnameList[0], font=(\"휴먼고딕\", 20), fg='blue') # 라벨은 fnameList의 처음에 나타나는 첫 번째 변수\n",
    "\n",
    "btnPrev.place(x=150, y=10)\n",
    "btnNext.place(x=500, y=10)\n",
    "pLabel.place(x=300, y=10)\n",
    "window.mainloop()"
   ]
  },
  {
   "cell_type": "markdown",
   "id": "dce897d1",
   "metadata": {},
   "source": [
    "# Self Study 10-2"
   ]
  },
  {
   "cell_type": "code",
   "execution_count": 12,
   "id": "34d2c265",
   "metadata": {},
   "outputs": [],
   "source": [
    "from tkinter import *\n",
    "import random\n",
    "\n",
    "##전역 변수 선언 부분##\n",
    "btnList = [None]*9\n",
    "fnameList = [\"C:/Users/whwhd/i-SEED/과제 사진/c1.gif\", \"C:/Users/whwhd/i-SEED/과제 사진/c2.gif\", \"C:/Users/whwhd/i-SEED/과제 사진/c3.gif\", \"C:/Users/whwhd/i-SEED/과제 사진/c4.gif\", \"C:/Users/whwhd/i-SEED/과제 사진/c5.gif\", \"C:/Users/whwhd/i-SEED/과제 사진/c6.gif\", \"C:/Users/whwhd/i-SEED/과제 사진/c7.gif\", \"C:/Users/whwhd/i-SEED/과제 사진/c8.gif\", \"C:/Users/whwhd/i-SEED/과제 사진/c9.gif\"]\n",
    "photoList = [None]*9\n",
    "i, k = 0, 0\n",
    "xPos, yPos = 0, 0\n",
    "num = 0\n",
    "\n",
    "##메인 코드 부분##\n",
    "window = Tk()\n",
    "window.geometry(\"210x210\")\n",
    "\n",
    "# 이미지 파일 리스트를 무작위로 섞기\n",
    "random.shuffle(fnameList)\n",
    "\n",
    "for i in range(0, 9) :\n",
    "    photoList[i] = PhotoImage(file = fnameList[i], master = window)\n",
    "    btnList[i] = Button(window, image = photoList[i])\n",
    "\n",
    "for i in range(0, 3):\n",
    "    for k in range(0, 3):\n",
    "        btnList[num].place(x = xPos, y = yPos)\n",
    "        num += 1\n",
    "        xPos += 70\n",
    "    xPos = 0\n",
    "    yPos += 70\n",
    "\n",
    "window.mainloop()"
   ]
  },
  {
   "cell_type": "markdown",
   "id": "b157b44f",
   "metadata": {},
   "source": [
    "# Self Study 10-5"
   ]
  },
  {
   "cell_type": "code",
   "execution_count": 13,
   "id": "861cbc30",
   "metadata": {},
   "outputs": [],
   "source": [
    "from tkinter import *\n",
    "from tkinter.filedialog import *\n",
    "\n",
    "def func_open():\n",
    "    filename = askopenfilename(parent=window, filetypes=((\"GIF 파일\",\"*.gif\"),(\"모든 파일\",\"*.*\")))\n",
    "    if filename:\n",
    "        photo = PhotoImage(file=filename)\n",
    "        width, height = photo.width(), photo.height()\n",
    "        for x in range(width):\n",
    "            for y in range(height):\n",
    "                r, g, b = photo.get(x, y)\n",
    "                gray = int((r + g + b) / 3)\n",
    "                photo.put(\"#%02x%02x%02x\" % (gray, gray, gray), (x, y))\n",
    "        pLabel.configure(image=photo)\n",
    "        pLabel.image = photo\n",
    "    \n",
    "def func_exit():\n",
    "    window.quit()\n",
    "    window.destroy()\n",
    "    \n",
    "window = Tk()\n",
    "window.geometry(\"400x400\")\n",
    "window.title(\"명화 감상하기\")\n",
    "\n",
    "pLabel = Label(window)\n",
    "pLabel.pack(expand=1, anchor=CENTER)\n",
    "\n",
    "mainMenu = Menu(window)\n",
    "window.config(menu=mainMenu)\n",
    "fileMenu = Menu(mainMenu)\n",
    "mainMenu.add_cascade(label='파일',menu=fileMenu)\n",
    "fileMenu.add_command(label='파일 열기',command=func_open)\n",
    "fileMenu.add_separator()\n",
    "fileMenu.add_command(label='프로그램 종료',command=func_exit)\n",
    "\n",
    "window.mainloop()"
   ]
  },
  {
   "cell_type": "code",
   "execution_count": null,
   "id": "f8283572",
   "metadata": {},
   "outputs": [],
   "source": []
  }
 ],
 "metadata": {
  "kernelspec": {
   "display_name": "Python 3 (ipykernel)",
   "language": "python",
   "name": "python3"
  },
  "language_info": {
   "codemirror_mode": {
    "name": "ipython",
    "version": 3
   },
   "file_extension": ".py",
   "mimetype": "text/x-python",
   "name": "python",
   "nbconvert_exporter": "python",
   "pygments_lexer": "ipython3",
   "version": "3.9.7"
  }
 },
 "nbformat": 4,
 "nbformat_minor": 5
}
