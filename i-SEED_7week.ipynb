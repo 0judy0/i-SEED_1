{
 "cells": [
  {
   "cell_type": "markdown",
   "id": "2eead88f",
   "metadata": {},
   "source": [
    "# 2 다음은 자동차를 클래스로 만든 코드입니다. 메소드에서 틀린 부분 2곳을 찾아서 맞게 고치세요."
   ]
  },
  {
   "cell_type": "code",
   "execution_count": 1,
   "id": "c949743d",
   "metadata": {},
   "outputs": [],
   "source": [
    "class Car:\n",
    "    color = \"\"\n",
    "    speed = 0\n",
    "    \n",
    "    def upSpeed(self, value):\n",
    "        self.speed += value"
   ]
  },
  {
   "cell_type": "markdown",
   "id": "e2606657",
   "metadata": {},
   "source": [
    "# 4 속도를 50으로 초기화하는 클래스의 생성자 코드입니다. 빈칸을 채우세요."
   ]
  },
  {
   "cell_type": "code",
   "execution_count": 2,
   "id": "6e45816e",
   "metadata": {},
   "outputs": [
    {
     "name": "stdout",
     "output_type": "stream",
     "text": [
      "50\n"
     ]
    }
   ],
   "source": [
    "class Horse:\n",
    "    speed = 0\n",
    "\n",
    "    def __init__(self):\n",
    "        self.speed = 50\n",
    "\n",
    "horse = Horse()\n",
    "\n",
    "print(horse.speed)"
   ]
  },
  {
   "cell_type": "markdown",
   "id": "2e1e78b6",
   "metadata": {},
   "source": [
    "# 6 다음은 클래스의 상속과 관련된 코드입니다. 코드의 실행 결과를 고르세요."
   ]
  },
  {
   "cell_type": "code",
   "execution_count": 3,
   "id": "5e1ec669",
   "metadata": {},
   "outputs": [
    {
     "name": "stdout",
     "output_type": "stream",
     "text": [
      "슈퍼 클래스\n",
      "서브 클래스\n"
     ]
    }
   ],
   "source": [
    "class Car:\n",
    "    def method(self):\n",
    "        print(\"슈퍼 클래스\")\n",
    "        \n",
    "class Sedan(Car):\n",
    "    def method(self):\n",
    "        print(\"서브 클래스\")\n",
    "        \n",
    "myCar = Car()\n",
    "mySedan = Sedan()\n",
    "myCar.method()\n",
    "mySedan.method()\n",
    "\n",
    "# 슈퍼 클래스 서브 클래스"
   ]
  },
  {
   "cell_type": "markdown",
   "id": "b97be42f",
   "metadata": {},
   "source": [
    "# 7. Car의 상속을 받는 RVCar 클래스를 정의하는 코드입니다. 빈칸을 채우세요."
   ]
  },
  {
   "cell_type": "code",
   "execution_count": 4,
   "id": "0fed3eff",
   "metadata": {},
   "outputs": [],
   "source": [
    "class Car:\n",
    "    speed = 0\n",
    "    \n",
    "    def upSpeed(self,value):\n",
    "        self.speed = self.speed + value\n",
    "\n",
    "class RVCar(Car):\n",
    "    seatNum = 0\n",
    "\n",
    "    def getSeatNum(self):\n",
    "        return self.seatNum"
   ]
  },
  {
   "cell_type": "code",
   "execution_count": null,
   "id": "4958746d",
   "metadata": {},
   "outputs": [],
   "source": []
  }
 ],
 "metadata": {
  "kernelspec": {
   "display_name": "Python 3 (ipykernel)",
   "language": "python",
   "name": "python3"
  },
  "language_info": {
   "codemirror_mode": {
    "name": "ipython",
    "version": 3
   },
   "file_extension": ".py",
   "mimetype": "text/x-python",
   "name": "python",
   "nbconvert_exporter": "python",
   "pygments_lexer": "ipython3",
   "version": "3.9.7"
  }
 },
 "nbformat": 4,
 "nbformat_minor": 5
}
