{
 "cells": [
  {
   "cell_type": "markdown",
   "id": "9e8d5f89",
   "metadata": {},
   "source": [
    "# code 2-4"
   ]
  },
  {
   "cell_type": "code",
   "execution_count": 7,
   "id": "0ec63294",
   "metadata": {},
   "outputs": [
    {
     "name": "stdout",
     "output_type": "stream",
     "text": [
      "첫 번째 숫자를 입력하세요 : 15\n",
      "두 번째 숫자를 입력하세요 : 3\n",
      "15 + 3 = 18\n",
      "15 - 3 = 12\n",
      "15 * 3 = 45\n",
      "15 / 3 = 5.0\n"
     ]
    }
   ],
   "source": [
    "a = int(input(\"첫 번째 숫자를 입력하세요 : \"))\n",
    "b = int(input(\"두 번째 숫자를 입력하세요 : \"))\n",
    "result = a + b\n",
    "print(a, \"+\", b, \"=\", result)\n",
    "result = a - b\n",
    "print(a, \"-\", b, \"=\", result)\n",
    "result = a * b\n",
    "print(a, \"*\", b, \"=\", result)\n",
    "result = a / b\n",
    "print(a, \"/\", b, \"=\", result)"
   ]
  },
  {
   "cell_type": "markdown",
   "id": "38937b7a",
   "metadata": {},
   "source": [
    "# code 2-7"
   ]
  },
  {
   "cell_type": "code",
   "execution_count": 4,
   "id": "2f3d8053",
   "metadata": {},
   "outputs": [],
   "source": [
    "import turtle\n",
    "import random\n",
    "\n",
    "## 함수 선언 부분 ##\n",
    "def screenLeftClick(x, y):\n",
    "    global r, g, b\n",
    "    turtle.pencolor((r, g, b))\n",
    "    turtle.pendown()\n",
    "    turtle.goto(x, y)\n",
    "    \n",
    "def screenRightClick(x, y):\n",
    "    turtle.penup()\n",
    "    turtle.goto(x, y)\n",
    "    \n",
    "def screenMidClick(x, y):\n",
    "    global r, g, b\n",
    "    tSize = random.randrange(1, 10)\n",
    "    turtle.shapesize(tSize)\n",
    "    r = random.random()\n",
    "    g = random.random()\n",
    "    b = random.random()\n",
    "    \n",
    "## 변수 선언 부분 ##\n",
    "pSize = 10\n",
    "r, g, b = 0.0, 0.0, 0.0\n",
    "\n",
    "## 메인 코드 부분 ##\n",
    "turtle.title('거북이로 그림 그리기')\n",
    "turtle.shape('turtle')\n",
    "turtle.pensize(pSize)\n",
    "\n",
    "turtle.onscreenclick(screenLeftClick, 1)\n",
    "turtle.onscreenclick(screenMidClick, 2)\n",
    "turtle.onscreenclick(screenRightClick, 3)\n",
    "\n",
    "turtle.done()"
   ]
  },
  {
   "cell_type": "code",
   "execution_count": null,
   "id": "3c5ac05f",
   "metadata": {},
   "outputs": [],
   "source": []
  }
 ],
 "metadata": {
  "kernelspec": {
   "display_name": "Python 3 (ipykernel)",
   "language": "python",
   "name": "python3"
  },
  "language_info": {
   "codemirror_mode": {
    "name": "ipython",
    "version": 3
   },
   "file_extension": ".py",
   "mimetype": "text/x-python",
   "name": "python",
   "nbconvert_exporter": "python",
   "pygments_lexer": "ipython3",
   "version": "3.9.7"
  }
 },
 "nbformat": 4,
 "nbformat_minor": 5
}
