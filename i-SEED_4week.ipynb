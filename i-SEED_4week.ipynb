{
 "cells": [
  {
   "cell_type": "markdown",
   "id": "9abe3def",
   "metadata": {},
   "source": [
    "# 5 문자열의 중간마다 $ 를 끼워 넣는 코드입니다. 빈칸을 채우세요."
   ]
  },
  {
   "cell_type": "code",
   "execution_count": 12,
   "id": "14d25dd7",
   "metadata": {},
   "outputs": [
    {
     "name": "stdout",
     "output_type": "stream",
     "text": [
      "P$y$t$h$o$n$"
     ]
    }
   ],
   "source": [
    "ss = 'Python'\n",
    "\n",
    "for i in range(0,len(ss)-1): # (문자열(ss)의 길이 -1) 만큼 반복 : 중간마다 $를 끼워 넣기 위해\n",
    "    print(ss[i] + \"$\",end='') # end='' : 줄바꿈이 안되게하기 위해"
   ]
  },
  {
   "cell_type": "markdown",
   "id": "7e03ddb3",
   "metadata": {},
   "source": [
    "# 11 입력된 문자열 중에서 한글과 영문자만 남기는 프로그램을 작성하세요"
   ]
  },
  {
   "cell_type": "code",
   "execution_count": 11,
   "id": "9477dfed",
   "metadata": {},
   "outputs": [
    {
     "name": "stdout",
     "output_type": "stream",
     "text": [
      "한글과 영문자만 남기기: 파이썬###CookBook$$$@@@열공중1234\n",
      "파이썬CookBook열공중\n"
     ]
    }
   ],
   "source": [
    "test = input(\"한글과 영문자만 남기기: \")\n",
    "result = ''\n",
    "for i in range(0, len(test)):\n",
    "    if test[i].isalpha() == True or ord(test[i]) > 127: # isalpha() : 알파벳인 경우 True; ord() : 아스키 코드를 숫자로 변환\n",
    "        result+=(test[i])\n",
    "print(result) "
   ]
  },
  {
   "cell_type": "markdown",
   "id": "e80abcca",
   "metadata": {},
   "source": [
    "# 9 문자열을 반대의 순서로 출력하는 코드입니다. 빈칸을 채우세요"
   ]
  },
  {
   "cell_type": "code",
   "execution_count": 12,
   "id": "a5f1de85",
   "metadata": {},
   "outputs": [
    {
     "name": "stdout",
     "output_type": "stream",
     "text": [
      "내용을 거꾸로 출력 --> nohtyP\n"
     ]
    }
   ],
   "source": [
    "inStr, outStr = \"Python\", \"\"\n",
    "strLen = len(inStr)\n",
    "\n",
    "for i in range(0, strLen): # inStr의 문자열 길이만큼 반복\n",
    "    outStr += inStr[-i-1] # -1, -2 ...는 끝에서부터 앞으로 차례로 향하는 순서임\n",
    "\n",
    "print(\"내용을 거꾸로 출력 --> %s\" % outStr)"
   ]
  },
  {
   "cell_type": "markdown",
   "id": "4c7348b6",
   "metadata": {},
   "source": [
    "# 13 [프로그램 1]를 변경해서 다음과 같이 글자가 나선형으로 안쪽으로 써지도록 코딩해 보세요"
   ]
  },
  {
   "cell_type": "code",
   "execution_count": 20,
   "id": "c2138af8",
   "metadata": {},
   "outputs": [],
   "source": [
    "import turtle\n",
    "import random\n",
    "from tkinter.simpledialog import *\n",
    "import math\n",
    "\n",
    "test = ''\n",
    "swidth, sheight = 500, 500 # 화면 크기\n",
    "tX, tY, txtSize = 0, 0, 20 # 글자 크기\n",
    "radius = 200 # 반지름\n",
    "\n",
    "turtle.title('거북이가 나선 모양의 글자쓰기')\n",
    "turtle.shape('turtle')\n",
    "turtle.setup(width=swidth + 50, height=sheight + 50) # setup 크기\n",
    "turtle.screensize(swidth, sheight)\n",
    "turtle.penup()\n",
    "test = askstring('문자열 입력', '거북이가 쓸 문자열을 입력')\n",
    "angle = 360 * 2 / len(test)\n",
    "\n",
    "for ch in test:\n",
    "    radian = 3.14 * angle / 180\n",
    "    tX = radius * math.cos(radian)\n",
    "    tY = radius * math.sin(radian)\n",
    "    r = random.random()\n",
    "    g = random.random()\n",
    "    b = random.random()\n",
    "\n",
    "    turtle.goto(tX, tY)\n",
    "    turtle.pencolor((r, g, b))\n",
    "    turtle.write(ch, font=('맑은 고딕', txtSize, 'bold'))\n",
    "    \n",
    "    angle += 360 * 2/ len(test)  # 문자와 문자 사이의 회전 각도(한 글자 쓸 때마다 몇 도씩 회전하는가)\n",
    "    radius -= 5 # 반지름을 줄임 : 나선형 회전을 위해\n",
    "\n",
    "turtle.done()"
   ]
  },
  {
   "cell_type": "markdown",
   "id": "0369f00c",
   "metadata": {},
   "source": [
    "# 3 다음 코드에서 빈칸을 채우세요."
   ]
  },
  {
   "cell_type": "code",
   "execution_count": 21,
   "id": "eec95408",
   "metadata": {},
   "outputs": [
    {
     "name": "stdout",
     "output_type": "stream",
     "text": [
      "600\n"
     ]
    }
   ],
   "source": [
    "def plus(v1,v2,v3): # 세 개의 변수를 받아서 더한 값을 return\n",
    "    result = 0\n",
    "    result = v1 + v2 + v3\n",
    "    return result\n",
    "\n",
    "hap = plus(100,200,300)\n",
    "print(hap)"
   ]
  },
  {
   "cell_type": "markdown",
   "id": "62ad49d7",
   "metadata": {},
   "source": [
    "# 4 다음에서 출력되는 값을 예상해 보세요."
   ]
  },
  {
   "cell_type": "code",
   "execution_count": 22,
   "id": "c2f9b7b8",
   "metadata": {},
   "outputs": [
    {
     "name": "stdout",
     "output_type": "stream",
     "text": [
      "100\n",
      "10\n"
     ]
    }
   ],
   "source": [
    "def f1():\n",
    "    print(var) # 100\n",
    "\n",
    "def f2():\n",
    "    var = 10\n",
    "    print(var) # 10\n",
    "    \n",
    "var = 100\n",
    "f1()\n",
    "f2()"
   ]
  },
  {
   "cell_type": "markdown",
   "id": "a657c029",
   "metadata": {},
   "source": [
    "# 11 1부터 100까지의 합계(=5050)을 구하는 재귀 함수를 사용한 코드입니다. 재귀 함수의 빈칸을 완성하세요"
   ]
  },
  {
   "cell_type": "code",
   "execution_count": 23,
   "id": "1c5607ce",
   "metadata": {},
   "outputs": [
    {
     "name": "stdout",
     "output_type": "stream",
     "text": [
      "5050\n"
     ]
    }
   ],
   "source": [
    "def addNumber(num):\n",
    "    if num == 1:\n",
    "        return 1\n",
    "    else:\n",
    "        return num + addNumber(num-1) \n",
    "    \n",
    "print(addNumber(100))"
   ]
  },
  {
   "cell_type": "markdown",
   "id": "3a82e393",
   "metadata": {},
   "source": [
    "# 8 다음은 3개의 매개변수 중 기본값을 2개 설정하는 코드입니다."
   ]
  },
  {
   "cell_type": "code",
   "execution_count": 2,
   "id": "7b9da161",
   "metadata": {},
   "outputs": [
    {
     "name": "stdout",
     "output_type": "stream",
     "text": [
      "매개변수 없이 호출 ==> 6\n",
      "매개변수가 1개로 호출 ==> 6\n",
      "매개변수가 2개로 호출 ==> 6\n",
      "매개변수가 3개로 호출 ==> 6\n"
     ]
    }
   ],
   "source": [
    "def myFunc(p1=2, p2=2, p3=2):\n",
    "    ret = p1+p2+p3\n",
    "    return ret\n",
    "print(\"매개변수 없이 호출 ==>\", myFunc())\n",
    "\n",
    "def myFunc(p1, p2=2, p3=3): # 3개의 매개변수 중 기본값을 2개 설정\n",
    "    ret = p1+p2+p3\n",
    "    return ret\n",
    "print(\"매개변수가 1개로 호출 ==>\", myFunc(1))\n",
    "print(\"매개변수가 2개로 호출 ==>\", myFunc(1,2))\n",
    "print(\"매개변수가 3개로 호출 ==>\", myFunc(1,2,3))"
   ]
  },
  {
   "cell_type": "code",
   "execution_count": null,
   "id": "344a7de0",
   "metadata": {},
   "outputs": [],
   "source": []
  }
 ],
 "metadata": {
  "kernelspec": {
   "display_name": "Python 3 (ipykernel)",
   "language": "python",
   "name": "python3"
  },
  "language_info": {
   "codemirror_mode": {
    "name": "ipython",
    "version": 3
   },
   "file_extension": ".py",
   "mimetype": "text/x-python",
   "name": "python",
   "nbconvert_exporter": "python",
   "pygments_lexer": "ipython3",
   "version": "3.9.7"
  }
 },
 "nbformat": 4,
 "nbformat_minor": 5
}
